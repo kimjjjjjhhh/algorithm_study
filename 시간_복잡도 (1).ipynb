{
  "nbformat": 4,
  "nbformat_minor": 0,
  "metadata": {
    "colab": {
      "provenance": []
    },
    "kernelspec": {
      "name": "python3",
      "display_name": "Python 3"
    },
    "language_info": {
      "name": "python"
    }
  },
  "cells": [
    {
      "cell_type": "markdown",
      "source": [
        "# 효율적인 알고리즘 고민\n",
        "- 알고리즘 문제는 문제에 대한 해답을 찾는 것이 가장 중요함\n",
        "- 하지만 해답을 찾는 것만큼 중요한 것이 문제를 효율적인 방법으로 해결하는 것임\n",
        "- 이때 효율적인 방법을 고민한다는 것은 시간 복잡도를 고민하는 것이다."
      ],
      "metadata": {
        "id": "Vmucc0fiRSKt"
      }
    },
    {
      "cell_type": "markdown",
      "source": [
        "#시간복잡도\n",
        "- 시간복잡도를 고려한다 -> 입력값의 변화에 따라 연산을 실행할 때, 연산 횟수에 비해 시간이 얼마만큼 걸리는가?\n",
        "- 효율적인 알고리즘 -> 입력값이 커짐에 따라 증가하는 시간의 비율을 최소화한 알고리즘을 구성했다.\n",
        "- 시간복잡도는 주로 빅-오 표기법을 사용해 나타낸다."
      ],
      "metadata": {
        "id": "ET6Gk-DARqum"
      }
    },
    {
      "cell_type": "markdown",
      "source": [
        "# Big-O 표기법\n",
        "##### 시간복잡도를 표기하는 방법\n",
        "- 빅-오 -> 상한 점근\n",
        "- 빅-오메가-> 하한 점근\n",
        "- 빅-세타 -> 그 둘의 평균\n",
        "- 위 세 가지 표기법은 시간 복잡도를 각각 최악, 최선, 중간(평균)의 경우에 대하여 나타내는 방법임\n",
        "\n",
        "##### 가장 자주 사용되는 표기법\n",
        "- 빅오 표기법은 최악의 경우를 고려하므로, 프로그램이 실행되는 과정에서 소요되는 최악의 시간까지 고려할 수 있다.\n",
        "- 빅-오메가 ->  최소한 특정 시간 이상이 걸림\n",
        "- 빅-세타 -> 평균적으로 이 정도 시간이 걸림\n",
        "- 빅-오 -> 이 정도 시간까지 걸릴 수 있다\n",
        "- -> 빅-오를 고려해야 그에 맞는 대응이 가능함\n"
      ],
      "metadata": {
        "id": "Nk2KFQPASUGK"
      }
    },
    {
      "cell_type": "markdown",
      "source": [
        "##### 시간 복잡도 최선의 경우를 고려한 경우\n",
        "- 결과를 반환하는 데 최선의 경우 1초, 평균적으로 1분, 최악의 경우 1시간이 걸린다고 가정하자\n",
        "- 이 알고리즘을 100번 실행하면 최선의 경우 100초가 소요됨\n",
        "- 만약 실제로 걸린 시간이 1시간이 넘었다면, 문제가 어디서 발생한 것인지 알기 어려움\n",
        "- 최선의 경우만 고려하면, 어디에서 문제가 발생했는지 알아내기 위해서는 로직의 많은 부분을 파악해야 하기때문에 많은 시간이 필요함"
      ],
      "metadata": {
        "id": "UcEkuwZlTbQA"
      }
    },
    {
      "cell_type": "markdown",
      "source": [
        "##### 시간 복잡도 중간의 경우를 고려한 경우\n",
        "- 평균값을 기대하는 시간 복잡도 고려\n",
        "- 알고리즘을 100번 실행할 때 100분의 시간이 소요된다고 생각, but 최악의 경우가 몇 개 발생하여 300분이 넘게 걸렸다면 최선의 경우를 고려한 것과 같은 고민을 하게 됨"
      ],
      "metadata": {
        "id": "W6LcDNb3UNIS"
      }
    },
    {
      "cell_type": "markdown",
      "source": [
        "##### 시간 복잡도 최악의 경우를 고려한 경우\n",
        "- 최악의 경우도 고려하여 대비하는 것이 안전함\n",
        "- 그래서 Big-O표기법을 많이 사용함\n",
        "- Big-O표기법 : 입력값의 변화에 따라 연산을 실행할 때, 연산 횟수에 비해 시간이 얼마만큼 걸리는가?'를 표기하는 방법"
      ],
      "metadata": {
        "id": "cGBA80XBUfm_"
      }
    },
    {
      "cell_type": "markdown",
      "source": [
        "# Big-O표기법의 종류\n",
        "- O(1)\n",
        "- O(n)\n",
        "- O(log n)\n",
        "- O(n2)\n",
        "- O(2n)"
      ],
      "metadata": {
        "id": "YT5EhvtrU-d0"
      }
    },
    {
      "cell_type": "markdown",
      "source": [
        "##### O(1)\n",
        "- 일정한 복잡도\n",
        "- 입력값이 증가하더라도 시간이 늘어나지 않음\n",
        "- 입력값의 크기와 관계없이, 즉시 출력값을 얻을 수 있음"
      ],
      "metadata": {
        "id": "TrP0P7eDVYCF"
      }
    },
    {
      "cell_type": "markdown",
      "source": [
        "##### O(n)\n",
        "- 선형 복잡도\n",
        "- 입력값이 증가함에 따라 시간 또한 같은 비율로 증가하는 것\n",
        "- 입력값을 100배로 증가시키면 걸리는 시간 또한 1초에서 100초로 증가함"
      ],
      "metadata": {
        "id": "8JdFIqnTVnLZ"
      }
    },
    {
      "cell_type": "markdown",
      "source": [
        "##### O(log n)\n",
        "- 로그 복잡도\n",
        "- Big-O표기법 중 O(1) 다음으로 빠른 시간 복잡도를 가짐\n",
        "- ex) up-down게임/ 정답이 72일때 50, 75, 62.5 순으로"
      ],
      "metadata": {
        "id": "mafSJIZNV_BR"
      }
    },
    {
      "cell_type": "markdown",
      "source": [
        "O(n2)\n",
        "- 2차 복잡도\n",
        "- 입력값이 증가함에 따라 시간이 n의 제곱수의 비율로 증가함"
      ],
      "metadata": {
        "id": "028MV4yaW2zB"
      }
    },
    {
      "cell_type": "markdown",
      "source": [
        "##### O(2n)\n",
        "- 기하급수적 복잡도\n",
        "- Big-O 표기법 중 가장 느린 시간 복잡도를 가짐\n",
        "- ex) 피보나치 수열(재귀)"
      ],
      "metadata": {
        "id": "hIb9-qtcXIfe"
      }
    },
    {
      "cell_type": "markdown",
      "source": [
        "출처 : https://hanamon.kr/%EC%95%8C%EA%B3%A0%EB%A6%AC%EC%A6%98-time-complexity-%EC%8B%9C%EA%B0%84-%EB%B3%B5%EC%9E%A1%EB%8F%84/"
      ],
      "metadata": {
        "id": "Tpgm3ctcXteI"
      }
    }
  ]
}